{
  "nbformat": 4,
  "nbformat_minor": 0,
  "metadata": {
    "colab": {
      "name": "preprocessing.ipynb",
      "provenance": []
    },
    "kernelspec": {
      "name": "python3",
      "display_name": "Python 3"
    },
    "language_info": {
      "name": "python"
    }
  },
  "cells": [
    {
      "cell_type": "code",
      "execution_count": null,
      "metadata": {
        "id": "NUmHi_jF6Wne"
      },
      "outputs": [],
      "source": [
        "from google.colab import drive\n",
        "drive.mount('/content/drive')"
      ]
    },
    {
      "cell_type": "code",
      "source": [
        "import keras\n",
        "import tensorflow as tf\n",
        "from keras.models import Sequential, Model\n",
        "from keras.layers import Dense, Dropout, Flatten, Conv2D, MaxPool2D\n",
        "from keras import backend as K\n",
        "from tensorflow.keras.layers import LayerNormalization\n",
        "from tensorflow.keras.optimizers import Adam, RMSprop\n",
        "from keras.preprocessing.image import ImageDataGenerator\n",
        "from keras.callbacks import ReduceLROnPlateau\n",
        "from keras.wrappers.scikit_learn import KerasClassifier\n",
        "from tensorflow.keras.applications.resnet50 import ResNet50\n",
        "from keras import backend as K "
      ],
      "metadata": {
        "id": "ekHSfRmr6Yju"
      },
      "execution_count": null,
      "outputs": []
    },
    {
      "cell_type": "code",
      "source": [
        "os.makedirs('/content/augment/')\n",
        "import albumentations as A"
      ],
      "metadata": {
        "id": "lnzXZXN66bFa"
      },
      "execution_count": null,
      "outputs": []
    },
    {
      "cell_type": "code",
      "source": [
        "transform = A.Compose([A.HorizontalFlip(p=0.5),])\n",
        "transform2=A.Compose([A.Rotate(p=0.2),])\n",
        "transform3=A.Compose([A.GaussNoise(var_limit=(10, 50),p=0.05),])"
      ],
      "metadata": {
        "id": "iNMVGLJX6ez0"
      },
      "execution_count": null,
      "outputs": []
    },
    {
      "cell_type": "code",
      "source": [
        "import cv2\n",
        "c=0\n",
        "f=0\n",
        "for i in os.listdir('/content/cancerdata/train/malignant'):\n",
        "  if c<81:\n",
        "    image = cv2.imread(\"/content/cancerdata/train/malignant/\"+str(i))\n",
        "    image = cv2.cvtColor(image, cv2.COLOR_BGR2RGB)\n",
        "    transformed = transform(image=image)\n",
        "    transformed_image = transformed[\"image\"]\n",
        "    f=f+1\n",
        "    transformed_image= Image.fromarray(transformed_image)\n",
        "    transformed_image.save('/content/augment/'+str(f) + \"aug\" + \".jpg\")\n",
        "\n",
        "    transformed2 = transform2(image=image)\n",
        "    transformed_image = transformed2[\"image\"]\n",
        "    f=f+1\n",
        "    transformed_image= Image.fromarray(transformed_image)\n",
        "    transformed_image.save('/content/augment/'+str(f) + \"aug\" + \".jpg\")\n",
        "\n",
        "    transformed3 = transform3(image=image)\n",
        "    transformed_image = transformed3[\"image\"]\n",
        "    f=f+1\n",
        "    transformed_image= Image.fromarray(transformed_image)\n",
        "    transformed_image.save('/content/augment/'+str(f) + \"aug\" + \".jpg\")\n",
        "  c=c+1"
      ],
      "metadata": {
        "id": "abGX3PdT6ns3"
      },
      "execution_count": null,
      "outputs": []
    },
    {
      "cell_type": "code",
      "source": [
        "import shutil\n",
        "import os\n",
        "    \n",
        "source_dir = '/content/augment'\n",
        "target_dir = '/content/cancerdata/train/malignant/'\n",
        "    \n",
        "file_names = os.listdir(source_dir)\n",
        "    \n",
        "for file_name in file_names:\n",
        "    shutil.move(os.path.join(source_dir, file_name), target_dir)"
      ],
      "metadata": {
        "id": "Jr6wNJeM6ohT"
      },
      "execution_count": null,
      "outputs": []
    },
    {
      "cell_type": "code",
      "source": [
        "import matplotlib.pyplot as plt\n",
        "def plot(imgs, with_orig=True, row_title=None, **imshow_kwargs):\n",
        "    if not isinstance(imgs[0], list):\n",
        "        # Make a 2d grid even if there's just 1 row\n",
        "        imgs = [imgs]\n",
        "\n",
        "    num_rows = len(imgs)\n",
        "    num_cols = len(imgs[0]) + with_orig\n",
        "    fig, axs = plt.subplots(nrows=num_rows, ncols=num_cols, squeeze=False)\n",
        "    for row_idx, row in enumerate(imgs):\n",
        "        row = [orig_img] + row if with_orig else row\n",
        "        for col_idx, img in enumerate(row):\n",
        "            ax = axs[row_idx, col_idx]\n",
        "            ax.imshow(np.asarray(img), **imshow_kwargs)\n",
        "            ax.set(xticklabels=[], yticklabels=[], xticks=[], yticks=[])\n",
        "\n",
        "    if with_orig:\n",
        "        axs[0, 0].set(title='Original image')\n",
        "        axs[0, 0].title.set_size(8)\n",
        "    if row_title is not None:\n",
        "        for row_idx in range(num_rows):\n",
        "            axs[row_idx, 0].set(ylabel=row_title[row_idx])\n",
        "\n",
        "    plt.tight_layout()"
      ],
      "metadata": {
        "id": "xB9GIscc6skK"
      },
      "execution_count": null,
      "outputs": []
    },
    {
      "cell_type": "code",
      "source": [
        "def save_imgs(jitted_imgs,f,with_orig=True):\n",
        "  if not isinstance(jitted_imgs[0], list):\n",
        "        # Make a 2d grid even if there's just 1 row\n",
        "        jitted_imgs = [jitted_imgs]\n",
        "  num_rows = len(jitted_imgs)\n",
        "  num_cols = len(jitted_imgs[0]) + with_orig\n",
        "  fig, axs = plt.subplots(nrows=num_rows, ncols=num_cols, squeeze=False)\n",
        "  for row_idx, row in enumerate(jitted_imgs):\n",
        "      row = [orig_img] + row if with_orig else row\n",
        "      for col_idx, img in enumerate(row):\n",
        "        res=Image.fromarray(np.asarray(img))\n",
        "        res.save('/content/augment/'+str(f) + \"aug\" + \".jpg\")\n",
        "        f=f+1"
      ],
      "metadata": {
        "id": "P7tT_nrW6xWv"
      },
      "execution_count": null,
      "outputs": []
    },
    {
      "cell_type": "code",
      "source": [
        "from torchvision import transforms\n",
        "from torchvision.transforms import Compose as C\n",
        "import torchvision\n",
        "import numpy as np\n",
        "from PIL import Image\n",
        "f=0\n",
        "for i in os.listdir('/content/cancerdata/train/benign/'):\n",
        "  orig_img=Image.open('/content/cancerdata/train/benign/'+i)\n",
        "  color_aug = torchvision.transforms.ColorJitter(brightness=0.2, contrast=0.2, saturation=0.1, hue=0.3)\n",
        "  jitted_imgs = [color_aug(orig_img) for _ in range(4)]\n",
        "  save_imgs(jitted_imgs,f)\n",
        "  f=f+1000"
      ],
      "metadata": {
        "id": "fCW090_860hl"
      },
      "execution_count": null,
      "outputs": []
    },
    {
      "cell_type": "code",
      "source": [
        "def norm():\n",
        "  \n",
        "  normalized_ds = train_ds.map(lambda x, y: (normalization_layer(x), y))\n",
        "  image_batch, labels_batch = next(iter(normalized_ds))\n",
        "  first_image = image_batch[0]\n",
        "\n",
        "  print(np.min(first_image), np.max(first_image))"
      ],
      "metadata": {
        "id": "adPzr52u7E0p"
      },
      "execution_count": null,
      "outputs": []
    }
  ]
}